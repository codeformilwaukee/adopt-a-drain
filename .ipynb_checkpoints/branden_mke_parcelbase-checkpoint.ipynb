{
 "cells": [
  {
   "cell_type": "markdown",
   "metadata": {},
   "source": [
    "## Import Libraries"
   ]
  },
  {
   "cell_type": "code",
   "execution_count": 29,
   "metadata": {},
   "outputs": [],
   "source": [
    "import geopandas as gpd\n",
    "import numpy as np\n",
    "import pandas as pd"
   ]
  },
  {
   "cell_type": "markdown",
   "metadata": {},
   "source": [
    "### Set Path to Parcelbase"
   ]
  },
  {
   "cell_type": "code",
   "execution_count": 30,
   "metadata": {},
   "outputs": [],
   "source": [
    "PARCELBASE = r'path_to_city_of_milwaukee_parcelbase'"
   ]
  },
  {
   "cell_type": "markdown",
   "metadata": {},
   "source": [
    "### Write Function"
   ]
  },
  {
   "cell_type": "code",
   "execution_count": 38,
   "metadata": {},
   "outputs": [],
   "source": [
    "def get_parcel_point(parclebase_shp_dir):\n",
    "    \n",
    "    \"\"\"A function that reads the City of Milwaukee parcelbase,\\\n",
    "     converts the polygon to a point by taking its centroid,\\\n",
    "     removes null taxkeys, and extracts latitude and longitude from the geometry column\\\n",
    "     :param parclebase_shp_dir: The directory where the City of Milwaukee parcelbase is located.\\\n",
    "     :return: geodataframe with crs of WBS84, lat/long columns, and point geometry \\\n",
    "     \"\"\"\n",
    "       \n",
    "    # read file\n",
    "    parcelbase = gpd.read_file(parclebase_shp_dir)\n",
    "\n",
    "    #convert the coordinate reference system to WGS84 (World Geodetic System)\n",
    "    parcelbase.to_crs(crs={'init' :'epsg:4326'}, inplace=True)\n",
    "\n",
    "    # copy poly to new GeoDataFrame\n",
    "    parcelpoint = parcelbase.copy()\n",
    "    # change the geometry\n",
    "    parcelpoint.geom = parcelpoint['geometry'].centroid\n",
    "\n",
    "    #remove any null taxkeys\n",
    "    parcelpoint = parcelpoint[(parcelpoint['TAXKEY'].isnull() == False) & (parcelpoint['TAXKEY'] != '<Null>')]\n",
    "\n",
    "    #convert taxkey to an integer\n",
    "    parcelpoint['TAXKEY'] = parcelpoint['TAXKEY'].astype(np.int64)\n",
    "\n",
    "    # get lat and longitude from geometry column\n",
    "    parcelpoint[\"latitude\"] = parcelpoint.centroid.map(lambda p: p.y)\n",
    "    parcelpoint[\"longitude\"] = parcelpoint.centroid.map(lambda p: p.x)\n",
    "    \n",
    "    return parcelpoint"
   ]
  },
  {
   "cell_type": "markdown",
   "metadata": {},
   "source": [
    "### Apply Function"
   ]
  },
  {
   "cell_type": "code",
   "execution_count": 39,
   "metadata": {
    "collapsed": true
   },
   "outputs": [
    {
     "name": "stderr",
     "output_type": "stream",
     "text": [
      "C:\\Users\\bdupont\\AppData\\Local\\Continuum\\Anaconda3\\lib\\site-packages\\geopandas\\geodataframe.py:64: UserWarning: Pandas doesn't allow columns to be created via a new attribute name - see https://pandas.pydata.org/pandas-docs/stable/indexing.html#attribute-access\n",
      "  super(GeoDataFrame, self).__setattr__(attr, val)\n"
     ]
    }
   ],
   "source": [
    "parcelpoint = get_parcel_point(parclebase_shp_dir=PARCELBASE)"
   ]
  },
  {
   "cell_type": "markdown",
   "metadata": {},
   "source": [
    "### Save Results to .csv or .shp"
   ]
  },
  {
   "cell_type": "code",
   "execution_count": 40,
   "metadata": {},
   "outputs": [
    {
     "data": {
      "text/html": [
       "<div>\n",
       "<style scoped>\n",
       "    .dataframe tbody tr th:only-of-type {\n",
       "        vertical-align: middle;\n",
       "    }\n",
       "\n",
       "    .dataframe tbody tr th {\n",
       "        vertical-align: top;\n",
       "    }\n",
       "\n",
       "    .dataframe thead th {\n",
       "        text-align: right;\n",
       "    }\n",
       "</style>\n",
       "<table border=\"1\" class=\"dataframe\">\n",
       "  <thead>\n",
       "    <tr style=\"text-align: right;\">\n",
       "      <th></th>\n",
       "      <th>TAXKEY</th>\n",
       "      <th>MAP_ID</th>\n",
       "      <th>PARCEL_TYP</th>\n",
       "      <th>GIS_DATETI</th>\n",
       "      <th>SHAPE_AREA</th>\n",
       "      <th>SHAPE_LEN</th>\n",
       "      <th>geometry</th>\n",
       "      <th>longitude</th>\n",
       "      <th>latitude</th>\n",
       "    </tr>\n",
       "  </thead>\n",
       "  <tbody>\n",
       "    <tr>\n",
       "      <th>0</th>\n",
       "      <td>4620887100</td>\n",
       "      <td>1110837</td>\n",
       "      <td>0</td>\n",
       "      <td>2018-02-05</td>\n",
       "      <td>9665.899989</td>\n",
       "      <td>486.671387</td>\n",
       "      <td>POLYGON ((-87.91757533267112 43.0114761996076,...</td>\n",
       "      <td>-87.917283</td>\n",
       "      <td>43.011546</td>\n",
       "    </tr>\n",
       "    <tr>\n",
       "      <th>1</th>\n",
       "      <td>4620916000</td>\n",
       "      <td>1110743</td>\n",
       "      <td>0</td>\n",
       "      <td>2018-02-05</td>\n",
       "      <td>3124.575275</td>\n",
       "      <td>299.966538</td>\n",
       "      <td>POLYGON ((-87.91728579428991 43.0105995666291,...</td>\n",
       "      <td>-87.917334</td>\n",
       "      <td>43.010771</td>\n",
       "    </tr>\n",
       "    <tr>\n",
       "      <th>2</th>\n",
       "      <td>4620004110</td>\n",
       "      <td>1130883</td>\n",
       "      <td>0</td>\n",
       "      <td>2018-02-05</td>\n",
       "      <td>141395.745068</td>\n",
       "      <td>1612.105389</td>\n",
       "      <td>POLYGON ((-87.9182401980823 43.01282112064911,...</td>\n",
       "      <td>-87.917725</td>\n",
       "      <td>43.013479</td>\n",
       "    </tr>\n",
       "    <tr>\n",
       "      <th>3</th>\n",
       "      <td>4670401100</td>\n",
       "      <td>1100660</td>\n",
       "      <td>0</td>\n",
       "      <td>2018-02-05</td>\n",
       "      <td>214100.126498</td>\n",
       "      <td>1970.039785</td>\n",
       "      <td>POLYGON ((-87.91549924028412 43.00832753885098...</td>\n",
       "      <td>-87.916084</td>\n",
       "      <td>43.009229</td>\n",
       "    </tr>\n",
       "    <tr>\n",
       "      <th>4</th>\n",
       "      <td>4620868100</td>\n",
       "      <td>1085123</td>\n",
       "      <td>0</td>\n",
       "      <td>2018-02-05</td>\n",
       "      <td>127529.551381</td>\n",
       "      <td>1433.430226</td>\n",
       "      <td>POLYGON ((-87.91544836681661 43.01113891619114...</td>\n",
       "      <td>-87.916077</td>\n",
       "      <td>43.011669</td>\n",
       "    </tr>\n",
       "  </tbody>\n",
       "</table>\n",
       "</div>"
      ],
      "text/plain": [
       "       TAXKEY   MAP_ID  PARCEL_TYP  GIS_DATETI     SHAPE_AREA    SHAPE_LEN  \\\n",
       "0  4620887100  1110837           0  2018-02-05    9665.899989   486.671387   \n",
       "1  4620916000  1110743           0  2018-02-05    3124.575275   299.966538   \n",
       "2  4620004110  1130883           0  2018-02-05  141395.745068  1612.105389   \n",
       "3  4670401100  1100660           0  2018-02-05  214100.126498  1970.039785   \n",
       "4  4620868100  1085123           0  2018-02-05  127529.551381  1433.430226   \n",
       "\n",
       "                                            geometry  longitude   latitude  \n",
       "0  POLYGON ((-87.91757533267112 43.0114761996076,... -87.917283  43.011546  \n",
       "1  POLYGON ((-87.91728579428991 43.0105995666291,... -87.917334  43.010771  \n",
       "2  POLYGON ((-87.9182401980823 43.01282112064911,... -87.917725  43.013479  \n",
       "3  POLYGON ((-87.91549924028412 43.00832753885098... -87.916084  43.009229  \n",
       "4  POLYGON ((-87.91544836681661 43.01113891619114... -87.916077  43.011669  "
      ]
     },
     "execution_count": 40,
     "metadata": {},
     "output_type": "execute_result"
    }
   ],
   "source": [
    "parcelpoint.head()"
   ]
  },
  {
   "cell_type": "code",
   "execution_count": null,
   "metadata": {},
   "outputs": [],
   "source": [
    "parcelpoint.to_csv(r'some_path.csv')"
   ]
  },
  {
   "cell_type": "code",
   "execution_count": null,
   "metadata": {},
   "outputs": [],
   "source": [
    "parcelpoint.to_shapefile(r'some_path.shp')"
   ]
  }
 ],
 "metadata": {
  "kernelspec": {
   "display_name": "Python 3",
   "language": "python",
   "name": "python3"
  },
  "language_info": {
   "codemirror_mode": {
    "name": "ipython",
    "version": 3
   },
   "file_extension": ".py",
   "mimetype": "text/x-python",
   "name": "python",
   "nbconvert_exporter": "python",
   "pygments_lexer": "ipython3",
   "version": "3.6.8"
  }
 },
 "nbformat": 4,
 "nbformat_minor": 2
}
